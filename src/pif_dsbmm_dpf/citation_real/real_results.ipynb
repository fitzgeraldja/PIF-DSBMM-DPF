{
 "cells": [
  {
   "cell_type": "code",
   "execution_count": 1,
   "metadata": {},
   "outputs": [],
   "source": [
    "import numpy as np\n",
    "# import seaborn as sns\n",
    "# sns.set(style=\"darkgrid\")\n",
    "from scipy.stats import poisson\n",
    "import pandas as pd\n",
    "from sklearn.metrics import roc_auc_score, accuracy_score, f1_score"
   ]
  },
  {
   "cell_type": "code",
   "execution_count": 2,
   "metadata": {},
   "outputs": [],
   "source": [
    "from pathlib import Path\n",
    "import pickle\n",
    "from pif_dsbmm_dpf.citation_real.process_real import label_propagation\n",
    "\n",
    "seed = 42\n",
    "datadir = Path('/scratch/fitzgeraldj/data/caus_inf_data/')\n",
    "data_model_str = f\"real_seed{seed}\"\n",
    "data_model_path = datadir / f\"{data_model_str}.pkl\"\n",
    "with open(data_model_path, \"rb\") as f:\n",
    "    data_model = pickle.load(f)\n",
    "\n",
    "Y = data_model.Y\n",
    "old_aus = [np.flatnonzero(Y[-2].sum(axis=1)),np.flatnonzero(Y[-1].sum(axis=1))]\n",
    "Y_heldout = data_model.Y_heldout\n",
    "full_A_end = data_model.full_A_end\n",
    "test_aus = data_model.test_aus\n",
    "\n",
    "dsbmm_datadir = datadir / \"dsbmm_data\"\n",
    "deg_corr = True\n",
    "directed = True\n",
    "\n",
    "\n"
   ]
  },
  {
   "cell_type": "code",
   "execution_count": 46,
   "metadata": {},
   "outputs": [],
   "source": [
    "def predict(params, A, Y_p, model):\n",
    "    # only do for heldout aus, so final timestep\n",
    "    gamma = params[\"Gamma_hat\"][:, -1, :]\n",
    "    alpha = params[\"Alpha_hat\"][:, -1, :]\n",
    "    z = params[\"Z_hat\"][:, -1, :]\n",
    "    variant = model.split(\".\")[-1]\n",
    "    print(f\"Model {model.split('.')[0]}; variant {variant}\")\n",
    "    if \"dsbmm_dpf\" in model or \"network_pref_only\" in model:\n",
    "        dsbmm_res_str = f\"{data_model_str}_{'dc' if deg_corr else 'ndc'}_{'dir' if directed else 'undir'}_{'meta' if variant=='z-theta-joint' else 'nometa'}\"\n",
    "        with open(dsbmm_datadir / f\"{dsbmm_res_str}_subs.pkl\", \"rb\") as f:\n",
    "            _, Z_trans, block_probs = pickle.load(f)\n",
    "        full_node_probs = label_propagation(\n",
    "            test_aus,\n",
    "            old_aus,\n",
    "            full_A_end,\n",
    "            params[\"Z_hat\"][:, -2:, :].copy(),\n",
    "            Z_trans,\n",
    "            block_probs[..., -1],\n",
    "            deg_corr=deg_corr,\n",
    "        )\n",
    "        z = full_node_probs[:, -1, :]\n",
    "        if \"dsbmm_dpf\" in model:\n",
    "            # need to expand to match form of rho\n",
    "            z = np.pad(z, ((0, 0), (0, alpha.shape[-1])))\n",
    "\n",
    "    # may want to do similar for w\n",
    "    w = params[\"W_hat\"][:, -1, :]\n",
    "    beta = params[\"Beta_hat\"][:, -1]\n",
    "\n",
    "    rate = (beta * A).dot(Y_p)\n",
    "\n",
    "    if model == \"network_pref_only\":\n",
    "        rate += z.dot(gamma.T)\n",
    "    elif model == \"topic_only\":\n",
    "        rate += alpha.dot(w.T)\n",
    "    elif \"dsbmm_dpf\" in model:\n",
    "        rate += z.dot(gamma.T) + alpha.dot(w.T)\n",
    "    try:\n",
    "        return rate.toarray() + 1e-10\n",
    "    except AttributeError:\n",
    "        return rate + 1e-10\n",
    "\n",
    "\n",
    "def get_ll(predicted, truth, restrict_users=None):\n",
    "    if restrict_users is not None:\n",
    "        predicted = predicted[restrict_users, :]\n",
    "        # truth = truth[restrict_users,:] already restricted now\n",
    "    return poisson.logpmf(truth.toarray(), predicted).sum(axis=1).mean()\n",
    "\n",
    "\n",
    "def get_classification_metrics(pred, truth, restrict_users=None):\n",
    "    if restrict_users is not None:\n",
    "        pred = pred[restrict_users, :]\n",
    "        # truth = truth[restrict_users,:] again already restricted\n",
    "    return roc_auc_score(truth.toarray().flatten(), pred.flatten())\n",
    "\n",
    "\n",
    "def get_influence_rates(params, A, Y_p):\n",
    "    # again only want final timestep\n",
    "    beta = params[\"Beta_hat\"][:, -1]\n",
    "    rate = (beta * A).dot(Y_p)\n",
    "    mean_inf_rate = rate.mean(axis=1)\n",
    "    return mean_inf_rate\n"
   ]
  },
  {
   "cell_type": "code",
   "execution_count": 47,
   "metadata": {},
   "outputs": [
    {
     "name": "stdout",
     "output_type": "stream",
     "text": [
      "Num aus that publish at least one paper in the held-out data: 1235\n"
     ]
    }
   ],
   "source": [
    "## Filter aus that publish at least 1 paper in the held-out period\n",
    "aus_to_predict = (Y_heldout.sum(axis=1) > 0)\n",
    "assert len(test_aus) == len(aus_to_predict)\n",
    "print(\"Num aus that publish at least one paper in the held-out data:\", aus_to_predict.sum())\n",
    "aus_to_predict = test_aus"
   ]
  },
  {
   "cell_type": "markdown",
   "metadata": {},
   "source": [
    "### Load results; print average influence and heldout prediction results."
   ]
  },
  {
   "cell_type": "code",
   "execution_count": 63,
   "metadata": {},
   "outputs": [
    {
     "name": "stdout",
     "output_type": "stream",
     "text": [
      "Model unadjusted; variant main\n",
      "Model topic_only; variant main\n",
      "Model dsbmm_dpf; variant z-theta-joint\n"
     ]
    },
    {
     "name": "stderr",
     "output_type": "stream",
     "text": [
      "Label prop.: 100%|██████████| 1235/1235 [00:33<00:00, 37.36it/s] \n"
     ]
    },
    {
     "data": {
      "text/html": [
       "<div>\n",
       "<style scoped>\n",
       "    .dataframe tbody tr th:only-of-type {\n",
       "        vertical-align: middle;\n",
       "    }\n",
       "\n",
       "    .dataframe tbody tr th {\n",
       "        vertical-align: top;\n",
       "    }\n",
       "\n",
       "    .dataframe thead th {\n",
       "        text-align: right;\n",
       "    }\n",
       "</style>\n",
       "<table border=\"1\" class=\"dataframe\">\n",
       "  <thead>\n",
       "    <tr style=\"text-align: right;\">\n",
       "      <th></th>\n",
       "      <th>Method</th>\n",
       "      <th>Average Estimated Influence</th>\n",
       "      <th>HOL</th>\n",
       "      <th>AUC</th>\n",
       "    </tr>\n",
       "  </thead>\n",
       "  <tbody>\n",
       "    <tr>\n",
       "      <th>0</th>\n",
       "      <td>Unadjusted</td>\n",
       "      <td>0.417052</td>\n",
       "      <td>-16.908770</td>\n",
       "      <td>0.887669</td>\n",
       "    </tr>\n",
       "    <tr>\n",
       "      <th>1</th>\n",
       "      <td>Topic-Only</td>\n",
       "      <td>0.420170</td>\n",
       "      <td>-16.932607</td>\n",
       "      <td>0.887687</td>\n",
       "    </tr>\n",
       "    <tr>\n",
       "      <th>2</th>\n",
       "      <td>Ours</td>\n",
       "      <td>0.413281</td>\n",
       "      <td>-20.286492</td>\n",
       "      <td>0.926881</td>\n",
       "    </tr>\n",
       "  </tbody>\n",
       "</table>\n",
       "</div>"
      ],
      "text/plain": [
       "       Method  Average Estimated Influence        HOL       AUC\n",
       "0  Unadjusted                     0.417052 -16.908770  0.887669\n",
       "1  Topic-Only                     0.420170 -16.932607  0.887687\n",
       "2        Ours                     0.413281 -20.286492  0.926881"
      ]
     },
     "execution_count": 63,
     "metadata": {},
     "output_type": "execute_result"
    }
   ],
   "source": [
    "out = Path('/scratch/fitzgeraldj/data/caus_inf_data/real_results/')\n",
    "b = 'Beta_hat'\n",
    "clean_names = {\n",
    "            'unadjusted.main':'Unadjusted',\n",
    "            #   'spf':'mSPF',\n",
    "              'network_pref_only.main':'Network-Only',\n",
    "              'topic_only.main':'Topic-Only',\n",
    "              'dsbmm_dpf.z-theta-joint':'Ours',\n",
    "              }\n",
    "\n",
    "methods = ['unadjusted.main', \n",
    "          #  'network_pref_only.main', \n",
    "           'topic_only.main',\n",
    "           'dsbmm_dpf.z-theta-joint',\n",
    "           ]\n",
    "results = {m:np.load((out / (m + \"_pres_subs_ewcnone_model_fitted_params\")) / 'all_params.npz') for m in methods}\n",
    "\n",
    "preds = [predict(results[m], full_A_end, Y[-1], m) for m in methods]\n",
    "hol = {m:get_ll(pred, \n",
    "                Y_heldout, \n",
    "                restrict_users=aus_to_predict) for m,pred in zip(methods,preds)}\n",
    "auc = {m:get_classification_metrics(pred, \n",
    "                                    Y_heldout, \n",
    "                                    restrict_users=aus_to_predict) for m,pred in zip(methods,preds)}\n",
    "\n",
    "data = [[clean_names[m], results[m][b].mean(), hol[m], auc[m]] for m in methods]\n",
    "\n",
    "df = pd.DataFrame(data, columns=['Method', 'Average Estimated Influence', 'HOL', 'AUC'])\n",
    "df"
   ]
  },
  {
   "cell_type": "code",
   "execution_count": 65,
   "metadata": {},
   "outputs": [
    {
     "name": "stderr",
     "output_type": "stream",
     "text": [
      "<ipython-input-65-25e179b34baa>:7: FutureWarning: In future versions `DataFrame.to_latex` is expected to utilise the base implementation of `Styler.to_latex` for formatting and rendering. The arguments signature may therefore change. It is recommended instead to use `DataFrame.style.to_latex` which also contains additional functionality.\n",
      "  out.to_latex('./results/real_results.tex',escape=False)\n"
     ]
    },
    {
     "data": {
      "text/html": [
       "<div>\n",
       "<style scoped>\n",
       "    .dataframe tbody tr th:only-of-type {\n",
       "        vertical-align: middle;\n",
       "    }\n",
       "\n",
       "    .dataframe tbody tr th {\n",
       "        vertical-align: top;\n",
       "    }\n",
       "\n",
       "    .dataframe thead th {\n",
       "        text-align: right;\n",
       "    }\n",
       "</style>\n",
       "<table border=\"1\" class=\"dataframe\">\n",
       "  <thead>\n",
       "    <tr style=\"text-align: right;\">\n",
       "      <th></th>\n",
       "      <th></th>\n",
       "      <th>Av. $\\beta$</th>\n",
       "      <th>HOL</th>\n",
       "      <th>AUC</th>\n",
       "    </tr>\n",
       "  </thead>\n",
       "  <tbody>\n",
       "    <tr>\n",
       "      <th>0</th>\n",
       "      <td>Unadjusted</td>\n",
       "      <td>0.42</td>\n",
       "      <td>\\textbf{-16.91}</td>\n",
       "      <td>0.89</td>\n",
       "    </tr>\n",
       "    <tr>\n",
       "      <th>1</th>\n",
       "      <td>Topic-Only</td>\n",
       "      <td>0.42</td>\n",
       "      <td>-16.93</td>\n",
       "      <td>0.89</td>\n",
       "    </tr>\n",
       "    <tr>\n",
       "      <th>2</th>\n",
       "      <td>Ours</td>\n",
       "      <td>0.41</td>\n",
       "      <td>-20.29</td>\n",
       "      <td>\\textbf{0.93}</td>\n",
       "    </tr>\n",
       "  </tbody>\n",
       "</table>\n",
       "</div>"
      ],
      "text/plain": [
       "              Av. $\\beta$              HOL            AUC\n",
       "0  Unadjusted        0.42  \\textbf{-16.91}           0.89\n",
       "1  Topic-Only        0.42           -16.93           0.89\n",
       "2        Ours        0.41           -20.29  \\textbf{0.93}"
      ]
     },
     "execution_count": 65,
     "metadata": {},
     "output_type": "execute_result"
    }
   ],
   "source": [
    "out = df.copy()\n",
    "out.columns = [\"\",\"Av. $\\\\beta$\", \"HOL\", \"AUC\"]\n",
    "out.iloc[:,1:] = np.round(out.iloc[:,1:],2)\n",
    "out = out.astype(str)\n",
    "out[\"HOL\"][out[\"HOL\"] == out[\"HOL\"].min(axis=0)] = '\\textbf{' + out[\"HOL\"][out[\"HOL\"] == out[\"HOL\"].min(axis=0)] + '}'\n",
    "out[\"AUC\"][out[\"AUC\"] == out[\"AUC\"].max(axis=0)] = '\\textbf{' + out[\"AUC\"][out[\"AUC\"] == out[\"AUC\"].max(axis=0)] + '}'\n",
    "out.to_latex('./results/real_results.tex',escape=False)\n",
    "\n",
    "out"
   ]
  },
  {
   "cell_type": "code",
   "execution_count": null,
   "metadata": {},
   "outputs": [],
   "source": []
  }
 ],
 "metadata": {
  "kernelspec": {
   "display_name": "Python 3.9.13 ('dsbmm')",
   "language": "python",
   "name": "python3"
  },
  "language_info": {
   "codemirror_mode": {
    "name": "ipython",
    "version": 3
   },
   "file_extension": ".py",
   "mimetype": "text/x-python",
   "name": "python",
   "nbconvert_exporter": "python",
   "pygments_lexer": "ipython3",
   "version": "3.9.13"
  },
  "vscode": {
   "interpreter": {
    "hash": "f7e9ac61dd33495e99df2de3821e149f85d8202ddba18b6ff083e03353ac2ec5"
   }
  }
 },
 "nbformat": 4,
 "nbformat_minor": 4
}
